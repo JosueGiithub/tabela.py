{
  "nbformat": 4,
  "nbformat_minor": 0,
  "metadata": {
    "colab": {
      "provenance": [],
      "authorship_tag": "ABX9TyPJ6UwdFRNksaxq0AU1V73J",
      "include_colab_link": true
    },
    "kernelspec": {
      "name": "python3",
      "display_name": "Python 3"
    },
    "language_info": {
      "name": "python"
    }
  },
  "cells": [
    {
      "cell_type": "markdown",
      "metadata": {
        "id": "view-in-github",
        "colab_type": "text"
      },
      "source": [
        "<a href=\"https://colab.research.google.com/github/JosueGiithub/tabela.py/blob/main/somaint.ipynb\" target=\"_parent\"><img src=\"https://colab.research.google.com/assets/colab-badge.svg\" alt=\"Open In Colab\"/></a>"
      ]
    },
    {
      "cell_type": "code",
      "execution_count": null,
      "metadata": {
        "id": "4qaWm-EXrmuH"
      },
      "outputs": [],
      "source": [
        "n1 = int(input(\" Digite o Primeiro Número \"))\n",
        "n2 = int(input(\" Digite o Segundo Número \"))\n",
        "n3 = int(input(\" Digite o Terceiro Número \"))\n",
        "n4 = int(input(\" Digite o Quarto Número \"))\n",
        "soma = n1 + n2 + n3 + n4\n",
        "print(\"O resultado é:\", soma)"
      ]
    }
  ]
}